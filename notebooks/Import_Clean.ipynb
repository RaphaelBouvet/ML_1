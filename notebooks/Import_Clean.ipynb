{
 "cells": [
  {
   "cell_type": "markdown",
   "id": "560ae5a1-bad9-46ac-be0b-43aea1d6db05",
   "metadata": {},
   "source": [
    "# Import"
   ]
  },
  {
   "cell_type": "code",
   "execution_count": 1,
   "id": "286ba479-5839-484b-b453-ef6719d2f8e3",
   "metadata": {},
   "outputs": [],
   "source": [
    "import pandas as pd\n",
    "import seaborn as sns\n",
    "import json\n",
    "import folium # pour affichage des données géographiques\n",
    "import matplotlib.pyplot as plt\n",
    "import numpy as np"
   ]
  },
  {
   "cell_type": "code",
   "execution_count": 2,
   "id": "6cfb3a2f-639d-483f-b3b5-5d441a4eb47f",
   "metadata": {},
   "outputs": [],
   "source": [
    "df_tree = pd.read_csv('../data/original/ESP_PUBLIC.IDENTITE_ARBRE.csv')"
   ]
  },
  {
   "cell_type": "code",
   "execution_count": 3,
   "id": "09b38a0e-f2a0-4fd2-a77f-3c65e62e71ca",
   "metadata": {},
   "outputs": [
    {
     "data": {
      "text/html": [
       "<div>\n",
       "<style scoped>\n",
       "    .dataframe tbody tr th:only-of-type {\n",
       "        vertical-align: middle;\n",
       "    }\n",
       "\n",
       "    .dataframe tbody tr th {\n",
       "        vertical-align: top;\n",
       "    }\n",
       "\n",
       "    .dataframe thead th {\n",
       "        text-align: right;\n",
       "    }\n",
       "</style>\n",
       "<table border=\"1\" class=\"dataframe\">\n",
       "  <thead>\n",
       "    <tr style=\"text-align: right;\">\n",
       "      <th></th>\n",
       "      <th>ELEM_POINT_ID</th>\n",
       "      <th>CODE</th>\n",
       "      <th>NOM</th>\n",
       "      <th>GENRE</th>\n",
       "      <th>GENRE_DESC</th>\n",
       "      <th>CATEGORIE</th>\n",
       "      <th>CATEGORIE_DESC</th>\n",
       "      <th>SOUS_CATEGORIE</th>\n",
       "      <th>SOUS_CATEGORIE_DESC</th>\n",
       "      <th>CODE_PARENT</th>\n",
       "      <th>...</th>\n",
       "      <th>COURRIER</th>\n",
       "      <th>IDENTIFIANTPLU</th>\n",
       "      <th>TYPEIMPLANTATIONPLU</th>\n",
       "      <th>INTITULEPROTECTIONPLU</th>\n",
       "      <th>ANNEEABATTAGE</th>\n",
       "      <th>ESSOUCHEMENT</th>\n",
       "      <th>DIAMETREARBRE</th>\n",
       "      <th>CAUSEABATTAGE</th>\n",
       "      <th>COLLECTIVITE</th>\n",
       "      <th>GeoJSON</th>\n",
       "    </tr>\n",
       "  </thead>\n",
       "  <tbody>\n",
       "    <tr>\n",
       "      <th>0</th>\n",
       "      <td>28796</td>\n",
       "      <td>ESP29533</td>\n",
       "      <td>ESP29533</td>\n",
       "      <td>VEG</td>\n",
       "      <td>VEGETATION</td>\n",
       "      <td>ESP01</td>\n",
       "      <td>Arbre</td>\n",
       "      <td>ESP174</td>\n",
       "      <td>Arbre d'espaces ouverts</td>\n",
       "      <td>ESP437</td>\n",
       "      <td>...</td>\n",
       "      <td>NaN</td>\n",
       "      <td>NaN</td>\n",
       "      <td>NaN</td>\n",
       "      <td>NaN</td>\n",
       "      <td>NaN</td>\n",
       "      <td>NaN</td>\n",
       "      <td>NaN</td>\n",
       "      <td>NaN</td>\n",
       "      <td>Ville de Grenoble</td>\n",
       "      <td>{\"type\":\"Point\",\"coordinates\":[5.7330521059871...</td>\n",
       "    </tr>\n",
       "    <tr>\n",
       "      <th>1</th>\n",
       "      <td>28802</td>\n",
       "      <td>ESP29534</td>\n",
       "      <td>ESP29534</td>\n",
       "      <td>VEG</td>\n",
       "      <td>VEGETATION</td>\n",
       "      <td>ESP01</td>\n",
       "      <td>Arbre</td>\n",
       "      <td>ESP174</td>\n",
       "      <td>Arbre d'espaces ouverts</td>\n",
       "      <td>ESP1393</td>\n",
       "      <td>...</td>\n",
       "      <td>NaN</td>\n",
       "      <td>NaN</td>\n",
       "      <td>NaN</td>\n",
       "      <td>NaN</td>\n",
       "      <td>NaN</td>\n",
       "      <td>NaN</td>\n",
       "      <td>NaN</td>\n",
       "      <td>NaN</td>\n",
       "      <td>Ville de Grenoble</td>\n",
       "      <td>{\"type\":\"Point\",\"coordinates\":[5.7396645998576...</td>\n",
       "    </tr>\n",
       "    <tr>\n",
       "      <th>2</th>\n",
       "      <td>28805</td>\n",
       "      <td>ESP29535</td>\n",
       "      <td>ESP29535</td>\n",
       "      <td>VEG</td>\n",
       "      <td>VEGETATION</td>\n",
       "      <td>ESP01</td>\n",
       "      <td>Arbre</td>\n",
       "      <td>ESP174</td>\n",
       "      <td>Arbre d'espaces ouverts</td>\n",
       "      <td>ESP1393</td>\n",
       "      <td>...</td>\n",
       "      <td>NaN</td>\n",
       "      <td>NaN</td>\n",
       "      <td>NaN</td>\n",
       "      <td>NaN</td>\n",
       "      <td>NaN</td>\n",
       "      <td>NaN</td>\n",
       "      <td>NaN</td>\n",
       "      <td>NaN</td>\n",
       "      <td>Ville de Grenoble</td>\n",
       "      <td>{\"type\":\"Point\",\"coordinates\":[5.7393760050367...</td>\n",
       "    </tr>\n",
       "    <tr>\n",
       "      <th>3</th>\n",
       "      <td>28814</td>\n",
       "      <td>ESP29537</td>\n",
       "      <td>ESP29537</td>\n",
       "      <td>VEG</td>\n",
       "      <td>VEGETATION</td>\n",
       "      <td>ESP01</td>\n",
       "      <td>Arbre</td>\n",
       "      <td>ESP174</td>\n",
       "      <td>Arbre d'espaces ouverts</td>\n",
       "      <td>ESP438</td>\n",
       "      <td>...</td>\n",
       "      <td>NaN</td>\n",
       "      <td>NaN</td>\n",
       "      <td>NaN</td>\n",
       "      <td>NaN</td>\n",
       "      <td>NaN</td>\n",
       "      <td>NaN</td>\n",
       "      <td>NaN</td>\n",
       "      <td>NaN</td>\n",
       "      <td>Ville de Grenoble</td>\n",
       "      <td>{\"type\":\"Point\",\"coordinates\":[5.7327578896097...</td>\n",
       "    </tr>\n",
       "    <tr>\n",
       "      <th>4</th>\n",
       "      <td>24990</td>\n",
       "      <td>ESP29538</td>\n",
       "      <td>ESP29538</td>\n",
       "      <td>VEG</td>\n",
       "      <td>VEGETATION</td>\n",
       "      <td>ESP01</td>\n",
       "      <td>Arbre</td>\n",
       "      <td>ESP151</td>\n",
       "      <td>Arbre de voirie</td>\n",
       "      <td>ESP430</td>\n",
       "      <td>...</td>\n",
       "      <td>NaN</td>\n",
       "      <td>NaN</td>\n",
       "      <td>NaN</td>\n",
       "      <td>NaN</td>\n",
       "      <td>NaN</td>\n",
       "      <td>NaN</td>\n",
       "      <td>NaN</td>\n",
       "      <td>NaN</td>\n",
       "      <td>Grenoble Alpes Métropole</td>\n",
       "      <td>{\"type\":\"Point\",\"coordinates\":[5.7101806683940...</td>\n",
       "    </tr>\n",
       "    <tr>\n",
       "      <th>...</th>\n",
       "      <td>...</td>\n",
       "      <td>...</td>\n",
       "      <td>...</td>\n",
       "      <td>...</td>\n",
       "      <td>...</td>\n",
       "      <td>...</td>\n",
       "      <td>...</td>\n",
       "      <td>...</td>\n",
       "      <td>...</td>\n",
       "      <td>...</td>\n",
       "      <td>...</td>\n",
       "      <td>...</td>\n",
       "      <td>...</td>\n",
       "      <td>...</td>\n",
       "      <td>...</td>\n",
       "      <td>...</td>\n",
       "      <td>...</td>\n",
       "      <td>...</td>\n",
       "      <td>...</td>\n",
       "      <td>...</td>\n",
       "      <td>...</td>\n",
       "    </tr>\n",
       "    <tr>\n",
       "      <th>31605</th>\n",
       "      <td>46021</td>\n",
       "      <td>ESP41555</td>\n",
       "      <td>ESP41555</td>\n",
       "      <td>VEG</td>\n",
       "      <td>VEGETATION</td>\n",
       "      <td>ESP01</td>\n",
       "      <td>Arbre</td>\n",
       "      <td>ESP174</td>\n",
       "      <td>Arbre d'espaces ouverts</td>\n",
       "      <td>ESP593</td>\n",
       "      <td>...</td>\n",
       "      <td>NaN</td>\n",
       "      <td>NaN</td>\n",
       "      <td>NaN</td>\n",
       "      <td>NaN</td>\n",
       "      <td>NaN</td>\n",
       "      <td>NaN</td>\n",
       "      <td>NaN</td>\n",
       "      <td>NaN</td>\n",
       "      <td>NaN</td>\n",
       "      <td>{\"type\":\"Point\",\"coordinates\":[5.7362096829728...</td>\n",
       "    </tr>\n",
       "    <tr>\n",
       "      <th>31606</th>\n",
       "      <td>46022</td>\n",
       "      <td>ESP41556</td>\n",
       "      <td>ESP41556</td>\n",
       "      <td>VEG</td>\n",
       "      <td>VEGETATION</td>\n",
       "      <td>ESP01</td>\n",
       "      <td>Arbre</td>\n",
       "      <td>ESP174</td>\n",
       "      <td>Arbre d'espaces ouverts</td>\n",
       "      <td>ESP1034</td>\n",
       "      <td>...</td>\n",
       "      <td>NaN</td>\n",
       "      <td>NaN</td>\n",
       "      <td>NaN</td>\n",
       "      <td>NaN</td>\n",
       "      <td>NaN</td>\n",
       "      <td>NaN</td>\n",
       "      <td>NaN</td>\n",
       "      <td>NaN</td>\n",
       "      <td>NaN</td>\n",
       "      <td>{\"type\":\"Point\",\"coordinates\":[5.7355397923023...</td>\n",
       "    </tr>\n",
       "    <tr>\n",
       "      <th>31607</th>\n",
       "      <td>46023</td>\n",
       "      <td>ESP41557</td>\n",
       "      <td>ESP41557</td>\n",
       "      <td>VEG</td>\n",
       "      <td>VEGETATION</td>\n",
       "      <td>ESP01</td>\n",
       "      <td>Arbre</td>\n",
       "      <td>ESP174</td>\n",
       "      <td>Arbre d'espaces ouverts</td>\n",
       "      <td>ESP1034</td>\n",
       "      <td>...</td>\n",
       "      <td>NaN</td>\n",
       "      <td>NaN</td>\n",
       "      <td>NaN</td>\n",
       "      <td>NaN</td>\n",
       "      <td>NaN</td>\n",
       "      <td>NaN</td>\n",
       "      <td>NaN</td>\n",
       "      <td>NaN</td>\n",
       "      <td>NaN</td>\n",
       "      <td>{\"type\":\"Point\",\"coordinates\":[5.7353772851058...</td>\n",
       "    </tr>\n",
       "    <tr>\n",
       "      <th>31608</th>\n",
       "      <td>15434</td>\n",
       "      <td>ESP18761</td>\n",
       "      <td>ESP18761</td>\n",
       "      <td>VEG</td>\n",
       "      <td>VEGETATION</td>\n",
       "      <td>ESP01</td>\n",
       "      <td>Arbre</td>\n",
       "      <td>ESP151</td>\n",
       "      <td>Arbre de voirie</td>\n",
       "      <td>ESP336</td>\n",
       "      <td>...</td>\n",
       "      <td>NaN</td>\n",
       "      <td>NaN</td>\n",
       "      <td>NaN</td>\n",
       "      <td>NaN</td>\n",
       "      <td>NaN</td>\n",
       "      <td>NaN</td>\n",
       "      <td>NaN</td>\n",
       "      <td>NaN</td>\n",
       "      <td>Grenoble Alpes Métropole</td>\n",
       "      <td>{\"type\":\"Point\",\"coordinates\":[5.7242110392924...</td>\n",
       "    </tr>\n",
       "    <tr>\n",
       "      <th>31609</th>\n",
       "      <td>7968</td>\n",
       "      <td>ESP14073</td>\n",
       "      <td>ESP14073</td>\n",
       "      <td>VEG</td>\n",
       "      <td>VEGETATION</td>\n",
       "      <td>ESP01</td>\n",
       "      <td>Arbre</td>\n",
       "      <td>ESP151</td>\n",
       "      <td>Arbre de voirie</td>\n",
       "      <td>ESP336</td>\n",
       "      <td>...</td>\n",
       "      <td>NaN</td>\n",
       "      <td>NaN</td>\n",
       "      <td>NaN</td>\n",
       "      <td>NaN</td>\n",
       "      <td>NaN</td>\n",
       "      <td>NaN</td>\n",
       "      <td>NaN</td>\n",
       "      <td>NaN</td>\n",
       "      <td>Grenoble Alpes Métropole</td>\n",
       "      <td>{\"type\":\"Point\",\"coordinates\":[5.7242265914674...</td>\n",
       "    </tr>\n",
       "  </tbody>\n",
       "</table>\n",
       "<p>31610 rows × 32 columns</p>\n",
       "</div>"
      ],
      "text/plain": [
       "       ELEM_POINT_ID      CODE       NOM GENRE  GENRE_DESC CATEGORIE  \\\n",
       "0              28796  ESP29533  ESP29533   VEG  VEGETATION     ESP01   \n",
       "1              28802  ESP29534  ESP29534   VEG  VEGETATION     ESP01   \n",
       "2              28805  ESP29535  ESP29535   VEG  VEGETATION     ESP01   \n",
       "3              28814  ESP29537  ESP29537   VEG  VEGETATION     ESP01   \n",
       "4              24990  ESP29538  ESP29538   VEG  VEGETATION     ESP01   \n",
       "...              ...       ...       ...   ...         ...       ...   \n",
       "31605          46021  ESP41555  ESP41555   VEG  VEGETATION     ESP01   \n",
       "31606          46022  ESP41556  ESP41556   VEG  VEGETATION     ESP01   \n",
       "31607          46023  ESP41557  ESP41557   VEG  VEGETATION     ESP01   \n",
       "31608          15434  ESP18761  ESP18761   VEG  VEGETATION     ESP01   \n",
       "31609           7968  ESP14073  ESP14073   VEG  VEGETATION     ESP01   \n",
       "\n",
       "      CATEGORIE_DESC SOUS_CATEGORIE      SOUS_CATEGORIE_DESC CODE_PARENT  ...  \\\n",
       "0              Arbre         ESP174  Arbre d'espaces ouverts      ESP437  ...   \n",
       "1              Arbre         ESP174  Arbre d'espaces ouverts     ESP1393  ...   \n",
       "2              Arbre         ESP174  Arbre d'espaces ouverts     ESP1393  ...   \n",
       "3              Arbre         ESP174  Arbre d'espaces ouverts      ESP438  ...   \n",
       "4              Arbre         ESP151          Arbre de voirie      ESP430  ...   \n",
       "...              ...            ...                      ...         ...  ...   \n",
       "31605          Arbre         ESP174  Arbre d'espaces ouverts      ESP593  ...   \n",
       "31606          Arbre         ESP174  Arbre d'espaces ouverts     ESP1034  ...   \n",
       "31607          Arbre         ESP174  Arbre d'espaces ouverts     ESP1034  ...   \n",
       "31608          Arbre         ESP151          Arbre de voirie      ESP336  ...   \n",
       "31609          Arbre         ESP151          Arbre de voirie      ESP336  ...   \n",
       "\n",
       "      COURRIER  IDENTIFIANTPLU TYPEIMPLANTATIONPLU INTITULEPROTECTIONPLU  \\\n",
       "0          NaN             NaN                 NaN                   NaN   \n",
       "1          NaN             NaN                 NaN                   NaN   \n",
       "2          NaN             NaN                 NaN                   NaN   \n",
       "3          NaN             NaN                 NaN                   NaN   \n",
       "4          NaN             NaN                 NaN                   NaN   \n",
       "...        ...             ...                 ...                   ...   \n",
       "31605      NaN             NaN                 NaN                   NaN   \n",
       "31606      NaN             NaN                 NaN                   NaN   \n",
       "31607      NaN             NaN                 NaN                   NaN   \n",
       "31608      NaN             NaN                 NaN                   NaN   \n",
       "31609      NaN             NaN                 NaN                   NaN   \n",
       "\n",
       "      ANNEEABATTAGE ESSOUCHEMENT DIAMETREARBRE  CAUSEABATTAGE  \\\n",
       "0               NaN          NaN           NaN            NaN   \n",
       "1               NaN          NaN           NaN            NaN   \n",
       "2               NaN          NaN           NaN            NaN   \n",
       "3               NaN          NaN           NaN            NaN   \n",
       "4               NaN          NaN           NaN            NaN   \n",
       "...             ...          ...           ...            ...   \n",
       "31605           NaN          NaN           NaN            NaN   \n",
       "31606           NaN          NaN           NaN            NaN   \n",
       "31607           NaN          NaN           NaN            NaN   \n",
       "31608           NaN          NaN           NaN            NaN   \n",
       "31609           NaN          NaN           NaN            NaN   \n",
       "\n",
       "                   COLLECTIVITE  \\\n",
       "0             Ville de Grenoble   \n",
       "1             Ville de Grenoble   \n",
       "2             Ville de Grenoble   \n",
       "3             Ville de Grenoble   \n",
       "4      Grenoble Alpes Métropole   \n",
       "...                         ...   \n",
       "31605                       NaN   \n",
       "31606                       NaN   \n",
       "31607                       NaN   \n",
       "31608  Grenoble Alpes Métropole   \n",
       "31609  Grenoble Alpes Métropole   \n",
       "\n",
       "                                                 GeoJSON  \n",
       "0      {\"type\":\"Point\",\"coordinates\":[5.7330521059871...  \n",
       "1      {\"type\":\"Point\",\"coordinates\":[5.7396645998576...  \n",
       "2      {\"type\":\"Point\",\"coordinates\":[5.7393760050367...  \n",
       "3      {\"type\":\"Point\",\"coordinates\":[5.7327578896097...  \n",
       "4      {\"type\":\"Point\",\"coordinates\":[5.7101806683940...  \n",
       "...                                                  ...  \n",
       "31605  {\"type\":\"Point\",\"coordinates\":[5.7362096829728...  \n",
       "31606  {\"type\":\"Point\",\"coordinates\":[5.7355397923023...  \n",
       "31607  {\"type\":\"Point\",\"coordinates\":[5.7353772851058...  \n",
       "31608  {\"type\":\"Point\",\"coordinates\":[5.7242110392924...  \n",
       "31609  {\"type\":\"Point\",\"coordinates\":[5.7242265914674...  \n",
       "\n",
       "[31610 rows x 32 columns]"
      ]
     },
     "execution_count": 3,
     "metadata": {},
     "output_type": "execute_result"
    }
   ],
   "source": [
    "df_tree"
   ]
  },
  {
   "cell_type": "code",
   "execution_count": 4,
   "id": "d56fb35b-b84a-4873-94fd-31cf5f300e32",
   "metadata": {},
   "outputs": [
    {
     "data": {
      "text/plain": [
       "Index(['ELEM_POINT_ID', 'CODE', 'NOM', 'GENRE', 'GENRE_DESC', 'CATEGORIE',\n",
       "       'CATEGORIE_DESC', 'SOUS_CATEGORIE', 'SOUS_CATEGORIE_DESC',\n",
       "       'CODE_PARENT', 'CODE_PARENT_DESC', 'ADR_SECTEUR', 'BIEN_REFERENCE',\n",
       "       'GENRE_BOTA', 'ESPECE', 'VARIETE', 'STADEDEDEVELOPPEMENT', 'EQUIPE',\n",
       "       'REMARQUES', 'ANNEEDEPLANTATION', 'RAISONDEPLANTATION',\n",
       "       'TRAITEMENTCHENILLES', 'COURRIER', 'IDENTIFIANTPLU',\n",
       "       'TYPEIMPLANTATIONPLU', 'INTITULEPROTECTIONPLU', 'ANNEEABATTAGE',\n",
       "       'ESSOUCHEMENT', 'DIAMETREARBRE', 'CAUSEABATTAGE', 'COLLECTIVITE',\n",
       "       'GeoJSON'],\n",
       "      dtype='object')"
      ]
     },
     "execution_count": 4,
     "metadata": {},
     "output_type": "execute_result"
    }
   ],
   "source": [
    "df_tree.columns"
   ]
  },
  {
   "cell_type": "code",
   "execution_count": 5,
   "id": "7ee471bf-d8e5-485a-9f28-007d386c0f38",
   "metadata": {},
   "outputs": [],
   "source": [
    "# on extrait la lat,longitude de la col geojson \n",
    "\n",
    "df_tree_json = pd.json_normalize(df_tree.GeoJSON.apply(json.loads))\n",
    "df_tree  = pd.concat([df_tree,df_tree_json],axis=1)\n",
    "df_tree[['longitude','latitude']] = pd.DataFrame(df_tree['coordinates'].to_list(),columns=['longitude','latitude'])\n",
    "df_tree = df_tree.drop(['GeoJSON','type','coordinates'],axis=1)"
   ]
  },
  {
   "cell_type": "markdown",
   "id": "c939089a-12db-444c-a94c-b067fca090b7",
   "metadata": {},
   "source": [
    "# Visualization"
   ]
  },
  {
   "cell_type": "markdown",
   "id": "91516e81-3044-4506-bba9-ee0be631d799",
   "metadata": {},
   "source": [
    "### Visualization missing data pattern"
   ]
  },
  {
   "cell_type": "code",
   "execution_count": 7,
   "id": "cb06f2d9-63e7-49fc-bdc6-92628d6b0960",
   "metadata": {},
   "outputs": [
    {
     "data": {
      "text/plain": [
       "EQUIPE                   1.000000\n",
       "CAUSEABATTAGE            1.000000\n",
       "DIAMETREARBRE            1.000000\n",
       "ESSOUCHEMENT             1.000000\n",
       "ANNEEABATTAGE            1.000000\n",
       "COURRIER                 1.000000\n",
       "TYPEIMPLANTATIONPLU      0.981019\n",
       "INTITULEPROTECTIONPLU    0.981019\n",
       "IDENTIFIANTPLU           0.981019\n",
       "TRAITEMENTCHENILLES      0.932363\n",
       "RAISONDEPLANTATION       0.896868\n",
       "VARIETE                  0.855457\n",
       "REMARQUES                0.832110\n",
       "STADEDEDEVELOPPEMENT     0.101297\n",
       "ESPECE                   0.077950\n",
       "ANNEEDEPLANTATION        0.042771\n",
       "GENRE_BOTA               0.025055\n",
       "COLLECTIVITE             0.014900\n",
       "longitude                0.000000\n",
       "ELEM_POINT_ID            0.000000\n",
       "CODE                     0.000000\n",
       "BIEN_REFERENCE           0.000000\n",
       "ADR_SECTEUR              0.000000\n",
       "CODE_PARENT_DESC         0.000000\n",
       "CODE_PARENT              0.000000\n",
       "SOUS_CATEGORIE_DESC      0.000000\n",
       "SOUS_CATEGORIE           0.000000\n",
       "CATEGORIE_DESC           0.000000\n",
       "CATEGORIE                0.000000\n",
       "GENRE_DESC               0.000000\n",
       "GENRE                    0.000000\n",
       "NOM                      0.000000\n",
       "latitude                 0.000000\n",
       "dtype: float64"
      ]
     },
     "execution_count": 7,
     "metadata": {},
     "output_type": "execute_result"
    }
   ],
   "source": [
    "df_tree.isna().sum().div(len(df_tree)).sort_values(ascending=False)"
   ]
  },
  {
   "cell_type": "markdown",
   "id": "043651c1-f005-4537-a080-b8521568128e",
   "metadata": {},
   "source": [
    "## Visualization using geographical data"
   ]
  },
  {
   "cell_type": "markdown",
   "id": "1348586f-975a-49e1-bdff-528209da589a",
   "metadata": {},
   "source": [
    "### Matplotlib"
   ]
  },
  {
   "cell_type": "code",
   "execution_count": 8,
   "id": "c073629e-7578-4d6b-9647-90e668e1ed99",
   "metadata": {},
   "outputs": [
    {
     "data": {
      "image/png": "[encoded data removed]",
      "text/plain": [
       "<Figure size 432x288 with 1 Axes>"
      ]
     },
     "metadata": {
      "needs_background": "light"
     },
     "output_type": "display_data"
    }
   ],
   "source": [
    "plt.scatter(data=df_tree,x='longitude',y='latitude');"
   ]
  },
  {
   "cell_type": "markdown",
   "id": "fe5267f9-29a3-410a-b549-d0bcb7dce017",
   "metadata": {},
   "source": [
    "### Folium"
   ]
  },
  {
   "cell_type": "code",
   "execution_count": 9,
   "id": "612c9fad-073f-4892-a8bd-f18cc3244ae4",
   "metadata": {},
   "outputs": [],
   "source": [
    "path_export_map = '../visu/grenoblemap.html'"
   ]
  },
  {
   "cell_type": "code",
   "execution_count": 10,
   "id": "656a1170-3b3f-44c5-b461-611f47fd7900",
   "metadata": {},
   "outputs": [],
   "source": [
    "location_gre=[45.166672,5.71667]\n",
    "grenoble = folium.Map(location = location_gre,zoom_start=13)\n",
    "\n",
    "for i,row in df_tree.iterrows():\n",
    "    loc = (row['latitude'],row['longitude'])\n",
    "    if np.isnan(row['ANNEEDEPLANTATION']):\n",
    "        folium.Circle(loc,radius=1,fill_opacity=0.8,color='red').add_to(grenoble)\n",
    "    else:\n",
    "        folium.Circle(loc,radius=1,fill_opacity=0.8,color='green').add_to(grenoble)\n",
    "grenoble.save(path_export_map)"
   ]
  },
  {
   "cell_type": "markdown",
   "id": "ee2116be-3527-4aad-8a1b-82ff33c3339f",
   "metadata": {},
   "source": [
    "# Clean up"
   ]
  },
  {
   "cell_type": "markdown",
   "id": "a0ee445d-8bc6-4a30-880b-201789c1ddd1",
   "metadata": {},
   "source": [
    "## Dropping features without information"
   ]
  },
  {
   "cell_type": "code",
   "execution_count": 11,
   "id": "3f81afb8-d3ef-461a-a646-6cce2a0ef0ef",
   "metadata": {},
   "outputs": [
    {
     "ename": "NameError",
     "evalue": "name 'dataframe' is not defined",
     "output_type": "error",
     "traceback": [
      "\u001b[0;31m---------------------------------------------------------------------------\u001b[0m",
      "\u001b[0;31mNameError\u001b[0m                                 Traceback (most recent call last)",
      "Input \u001b[0;32mIn [11]\u001b[0m, in \u001b[0;36m<cell line: 1>\u001b[0;34m()\u001b[0m\n\u001b[0;32m----> 1\u001b[0m na \u001b[38;5;241m=\u001b[39m df_tree\u001b[38;5;241m.\u001b[39misna()\u001b[38;5;241m.\u001b[39msum()\u001b[38;5;241m.\u001b[39mdiv(\u001b[38;5;28mlen\u001b[39m(\u001b[43mdataframe\u001b[49m))\u001b[38;5;241m.\u001b[39msort_values(ascending\u001b[38;5;241m=\u001b[39m\u001b[38;5;28;01mFalse\u001b[39;00m)\n",
      "\u001b[0;31mNameError\u001b[0m: name 'dataframe' is not defined"
     ]
    }
   ],
   "source": [
    "na = df_tree.isna().sum().div(len(dataframe)).sort_values(ascending=False)"
   ]
  },
  {
   "cell_type": "code",
   "execution_count": null,
   "id": "90df3330-8e37-4771-9831-47d803191cee",
   "metadata": {},
   "outputs": [],
   "source": [
    "na.where(na>0.5).dropna()"
   ]
  },
  {
   "cell_type": "code",
   "execution_count": null,
   "id": "c4f98585-5acf-4f64-a77b-b460aeedc54c",
   "metadata": {},
   "outputs": [],
   "source": [
    "col_na = na.where(na>0.5).dropna().index"
   ]
  },
  {
   "cell_type": "code",
   "execution_count": null,
   "id": "773069e4-bbd2-4216-a0b0-d504a0064fa8",
   "metadata": {},
   "outputs": [],
   "source": [
    "col_na"
   ]
  },
  {
   "cell_type": "code",
   "execution_count": null,
   "id": "9c8bb8cb-5744-47a9-8dd2-c64b5cc9f5aa",
   "metadata": {},
   "outputs": [],
   "source": [
    "df_tree = df_tree.drop(col_na,axis=1)"
   ]
  },
  {
   "cell_type": "code",
   "execution_count": null,
   "id": "62464bc2-8726-4668-9338-972f29be77d4",
   "metadata": {},
   "outputs": [],
   "source": [
    "df_tree"
   ]
  },
  {
   "cell_type": "markdown",
   "id": "c4639cbc-b1fa-4f93-b650-c48ae409c38c",
   "metadata": {},
   "source": [
    "## Dropping NAN values for année de plantation "
   ]
  },
  {
   "cell_type": "code",
   "execution_count": null,
   "id": "15be5ce3-636a-4949-9b07-9a6e6c8c55e1",
   "metadata": {},
   "outputs": [],
   "source": [
    "df_tree['ANNEEDEPLANTATION'].isna().value_counts()"
   ]
  },
  {
   "cell_type": "code",
   "execution_count": null,
   "id": "e1fe08de-95e4-4234-89a8-612bfacec5c6",
   "metadata": {},
   "outputs": [],
   "source": [
    "na_trees = df_tree[df_tree['ANNEEDEPLANTATION'].isna()]"
   ]
  },
  {
   "cell_type": "code",
   "execution_count": null,
   "id": "7d73a072-6a0f-4130-b109-4bde031aad21",
   "metadata": {},
   "outputs": [],
   "source": [
    "df_tree = df_tree.dropna(axis = 0,subset=['ANNEEDEPLANTATION'])"
   ]
  },
  {
   "cell_type": "code",
   "execution_count": null,
   "id": "19dc2af1-0210-4208-84ff-e2cbaff47a4f",
   "metadata": {},
   "outputs": [],
   "source": [
    "df_tree['ANNEEDEPLANTATION'].isna().value_counts()"
   ]
  },
  {
   "cell_type": "markdown",
   "id": "b665e3ab-98b6-41a8-90b7-8080ed8e16f8",
   "metadata": {},
   "source": [
    "## Export des données en pickle"
   ]
  },
  {
   "cell_type": "code",
   "execution_count": null,
   "id": "d56a2c83-1cbe-40e5-aa54-b88af0822828",
   "metadata": {},
   "outputs": [],
   "source": [
    "path_clean = '../data/modified/trees_clean.pkl'\n",
    "path_na_tree = '../data/modified/trees_na.pkl'"
   ]
  },
  {
   "cell_type": "code",
   "execution_count": null,
   "id": "0fd12516-3039-4e70-9802-be3782b97e96",
   "metadata": {},
   "outputs": [],
   "source": [
    "df_tree.to_pickle(path_clean)\n",
    "na_tree.to_pickle(path_na_tree)\n"
   ]
  },
  {
   "cell_type": "code",
   "execution_count": null,
   "id": "117b8a8a-bd0a-4c86-bad3-05e7cafc6b46",
   "metadata": {},
   "outputs": [],
   "source": []
  }
 ],
 "metadata": {
  "kernelspec": {
   "display_name": "Python [conda env:ml_1]",
   "language": "python",
   "name": "conda-env-ml_1-py"
  },
  "language_info": {
   "codemirror_mode": {
    "name": "ipython",
    "version": 3
   },
   "file_extension": ".py",
   "mimetype": "text/x-python",
   "name": "python",
   "nbconvert_exporter": "python",
   "pygments_lexer": "ipython3",
   "version": "3.9.12"
  }
 },
 "nbformat": 4,
 "nbformat_minor": 5
}
